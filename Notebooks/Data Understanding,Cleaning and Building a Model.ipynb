{
 "cells": [
  {
   "cell_type": "markdown",
   "metadata": {},
   "source": [
    "## Data Cleaning,Modelling and Building A Sentiment Analysis Model"
   ]
  },
  {
   "cell_type": "markdown",
   "metadata": {},
   "source": [
    "We seek to visually represent the context of the tweets "
   ]
  },
  {
   "cell_type": "code",
   "execution_count": 46,
   "metadata": {},
   "outputs": [],
   "source": [
    "#importing requisite libraries\n",
    "import matplotlib.pyplot as plt\n",
    "from matplotlib import figure\n",
    "from textblob import TextBlob\n",
    "import sys\n",
    "import tweepy\n",
    "import matplotlib.pyplot as plt\n",
    "import pandas as pd\n",
    "import numpy as np\n",
    "import os\n",
    "import nltk\n",
    "import pycountry\n",
    "import re\n",
    "import string\n",
    "from wordcloud import WordCloud, STOPWORDS\n",
    "from PIL import Image\n",
    "from nltk.sentiment.vader import SentimentIntensityAnalyzer\n",
    "from langdetect import detect\n",
    "from nltk.stem import SnowballStemmer\n",
    "from nltk.sentiment.vader import SentimentIntensityAnalyzer\n",
    "from sklearn.feature_extraction.text import CountVectorizer\n",
    "from nltk.corpus import stopwords\n",
    "#print(stopwords.words('english'))\n",
    "import numpy as np\n",
    "import re\n",
    "#from nltk.corpus import stopwords\n",
    "from nltk.tokenize import word_tokenize\n",
    "import seaborn as sns\n",
    "import preprocessor\n",
    "from preprocessor import clean\n",
    "global str"
   ]
  },
  {
   "cell_type": "code",
   "execution_count": 47,
   "metadata": {},
   "outputs": [],
   "source": [
    "df=pd.read_csv(\"C:/Users/HP/Desktop/Sentiment Analysis On Tweets Mentioning Blood Sisters-A Netflix Movie/result.csv\",sep=',',on_bad_lines='skip')"
   ]
  },
  {
   "cell_type": "code",
   "execution_count": 48,
   "metadata": {},
   "outputs": [
    {
     "data": {
      "text/html": [
       "<div>\n",
       "<style scoped>\n",
       "    .dataframe tbody tr th:only-of-type {\n",
       "        vertical-align: middle;\n",
       "    }\n",
       "\n",
       "    .dataframe tbody tr th {\n",
       "        vertical-align: top;\n",
       "    }\n",
       "\n",
       "    .dataframe thead th {\n",
       "        text-align: right;\n",
       "    }\n",
       "</style>\n",
       "<table border=\"1\" class=\"dataframe\">\n",
       "  <thead>\n",
       "    <tr style=\"text-align: right;\">\n",
       "      <th></th>\n",
       "      <th>2022-05-21 09:43:20+00:00</th>\n",
       "      <th>b\"@Frankdeburgh @HenshawKate She's just interpreting the mischief and meanness of Kola's Mom.\\n#BloodSisters\"</th>\n",
       "    </tr>\n",
       "  </thead>\n",
       "  <tbody>\n",
       "    <tr>\n",
       "      <th>0</th>\n",
       "      <td>2022-05-21 09:24:39+00:00</td>\n",
       "      <td>b'RT @NetflixNaija: This friendship is thicker...</td>\n",
       "    </tr>\n",
       "    <tr>\n",
       "      <th>1</th>\n",
       "      <td>2022-05-21 09:18:00+00:00</td>\n",
       "      <td>b'RT @ISWISPodcast: FK or Jola, Who is more li...</td>\n",
       "    </tr>\n",
       "    <tr>\n",
       "      <th>2</th>\n",
       "      <td>2022-05-21 09:06:41+00:00</td>\n",
       "      <td>b'RT @ISWISPodcast: FK or Jola, Who is more li...</td>\n",
       "    </tr>\n",
       "    <tr>\n",
       "      <th>3</th>\n",
       "      <td>2022-05-21 09:05:02+00:00</td>\n",
       "      <td>b\"The audition will be for a supporting or cam...</td>\n",
       "    </tr>\n",
       "    <tr>\n",
       "      <th>4</th>\n",
       "      <td>2022-05-21 09:05:01+00:00</td>\n",
       "      <td>b\"You could be selected for the next EbonyLife...</td>\n",
       "    </tr>\n",
       "    <tr>\n",
       "      <th>...</th>\n",
       "      <td>...</td>\n",
       "      <td>...</td>\n",
       "    </tr>\n",
       "    <tr>\n",
       "      <th>594</th>\n",
       "      <td>2022-05-30 17:04:59+00:00</td>\n",
       "      <td>b'Another Episode of #4CornersPodcast OUT NOW....</td>\n",
       "    </tr>\n",
       "    <tr>\n",
       "      <th>595</th>\n",
       "      <td>2022-05-30 17:04:51+00:00</td>\n",
       "      <td>b'Another Episode of #4CornersPodcast OUT NOW....</td>\n",
       "    </tr>\n",
       "    <tr>\n",
       "      <th>596</th>\n",
       "      <td>2022-05-30 15:42:04+00:00</td>\n",
       "      <td>b'I finished watching #bloodsisters and come r...</td>\n",
       "    </tr>\n",
       "    <tr>\n",
       "      <th>597</th>\n",
       "      <td>2022-05-30 15:04:00+00:00</td>\n",
       "      <td>b'#BloodSisters was worth the hype, I loved d ...</td>\n",
       "    </tr>\n",
       "    <tr>\n",
       "      <th>598</th>\n",
       "      <td>2022-05-30 13:51:35+00:00</td>\n",
       "      <td>b'RT @NetflixNaija: This friendship is thicker...</td>\n",
       "    </tr>\n",
       "  </tbody>\n",
       "</table>\n",
       "<p>599 rows × 2 columns</p>\n",
       "</div>"
      ],
      "text/plain": [
       "     2022-05-21 09:43:20+00:00  \\\n",
       "0    2022-05-21 09:24:39+00:00   \n",
       "1    2022-05-21 09:18:00+00:00   \n",
       "2    2022-05-21 09:06:41+00:00   \n",
       "3    2022-05-21 09:05:02+00:00   \n",
       "4    2022-05-21 09:05:01+00:00   \n",
       "..                         ...   \n",
       "594  2022-05-30 17:04:59+00:00   \n",
       "595  2022-05-30 17:04:51+00:00   \n",
       "596  2022-05-30 15:42:04+00:00   \n",
       "597  2022-05-30 15:04:00+00:00   \n",
       "598  2022-05-30 13:51:35+00:00   \n",
       "\n",
       "    b\"@Frankdeburgh @HenshawKate She's just interpreting the mischief and meanness of Kola's Mom.\\n#BloodSisters\"  \n",
       "0    b'RT @NetflixNaija: This friendship is thicker...                                                             \n",
       "1    b'RT @ISWISPodcast: FK or Jola, Who is more li...                                                             \n",
       "2    b'RT @ISWISPodcast: FK or Jola, Who is more li...                                                             \n",
       "3    b\"The audition will be for a supporting or cam...                                                             \n",
       "4    b\"You could be selected for the next EbonyLife...                                                             \n",
       "..                                                 ...                                                             \n",
       "594  b'Another Episode of #4CornersPodcast OUT NOW....                                                             \n",
       "595  b'Another Episode of #4CornersPodcast OUT NOW....                                                             \n",
       "596  b'I finished watching #bloodsisters and come r...                                                             \n",
       "597  b'#BloodSisters was worth the hype, I loved d ...                                                             \n",
       "598  b'RT @NetflixNaija: This friendship is thicker...                                                             \n",
       "\n",
       "[599 rows x 2 columns]"
      ]
     },
     "execution_count": 48,
     "metadata": {},
     "output_type": "execute_result"
    }
   ],
   "source": [
    "df"
   ]
  },
  {
   "cell_type": "code",
   "execution_count": 49,
   "metadata": {},
   "outputs": [],
   "source": [
    "#adding column titles\n",
    "df.columns=['tweet_time','full_text']"
   ]
  },
  {
   "cell_type": "code",
   "execution_count": 50,
   "metadata": {},
   "outputs": [
    {
     "data": {
      "text/html": [
       "<div>\n",
       "<style scoped>\n",
       "    .dataframe tbody tr th:only-of-type {\n",
       "        vertical-align: middle;\n",
       "    }\n",
       "\n",
       "    .dataframe tbody tr th {\n",
       "        vertical-align: top;\n",
       "    }\n",
       "\n",
       "    .dataframe thead th {\n",
       "        text-align: right;\n",
       "    }\n",
       "</style>\n",
       "<table border=\"1\" class=\"dataframe\">\n",
       "  <thead>\n",
       "    <tr style=\"text-align: right;\">\n",
       "      <th></th>\n",
       "      <th>tweet_time</th>\n",
       "      <th>full_text</th>\n",
       "    </tr>\n",
       "  </thead>\n",
       "  <tbody>\n",
       "    <tr>\n",
       "      <th>0</th>\n",
       "      <td>2022-05-21 09:24:39+00:00</td>\n",
       "      <td>b'RT @NetflixNaija: This friendship is thicker...</td>\n",
       "    </tr>\n",
       "    <tr>\n",
       "      <th>1</th>\n",
       "      <td>2022-05-21 09:18:00+00:00</td>\n",
       "      <td>b'RT @ISWISPodcast: FK or Jola, Who is more li...</td>\n",
       "    </tr>\n",
       "    <tr>\n",
       "      <th>2</th>\n",
       "      <td>2022-05-21 09:06:41+00:00</td>\n",
       "      <td>b'RT @ISWISPodcast: FK or Jola, Who is more li...</td>\n",
       "    </tr>\n",
       "    <tr>\n",
       "      <th>3</th>\n",
       "      <td>2022-05-21 09:05:02+00:00</td>\n",
       "      <td>b\"The audition will be for a supporting or cam...</td>\n",
       "    </tr>\n",
       "    <tr>\n",
       "      <th>4</th>\n",
       "      <td>2022-05-21 09:05:01+00:00</td>\n",
       "      <td>b\"You could be selected for the next EbonyLife...</td>\n",
       "    </tr>\n",
       "    <tr>\n",
       "      <th>...</th>\n",
       "      <td>...</td>\n",
       "      <td>...</td>\n",
       "    </tr>\n",
       "    <tr>\n",
       "      <th>594</th>\n",
       "      <td>2022-05-30 17:04:59+00:00</td>\n",
       "      <td>b'Another Episode of #4CornersPodcast OUT NOW....</td>\n",
       "    </tr>\n",
       "    <tr>\n",
       "      <th>595</th>\n",
       "      <td>2022-05-30 17:04:51+00:00</td>\n",
       "      <td>b'Another Episode of #4CornersPodcast OUT NOW....</td>\n",
       "    </tr>\n",
       "    <tr>\n",
       "      <th>596</th>\n",
       "      <td>2022-05-30 15:42:04+00:00</td>\n",
       "      <td>b'I finished watching #bloodsisters and come r...</td>\n",
       "    </tr>\n",
       "    <tr>\n",
       "      <th>597</th>\n",
       "      <td>2022-05-30 15:04:00+00:00</td>\n",
       "      <td>b'#BloodSisters was worth the hype, I loved d ...</td>\n",
       "    </tr>\n",
       "    <tr>\n",
       "      <th>598</th>\n",
       "      <td>2022-05-30 13:51:35+00:00</td>\n",
       "      <td>b'RT @NetflixNaija: This friendship is thicker...</td>\n",
       "    </tr>\n",
       "  </tbody>\n",
       "</table>\n",
       "<p>599 rows × 2 columns</p>\n",
       "</div>"
      ],
      "text/plain": [
       "                    tweet_time  \\\n",
       "0    2022-05-21 09:24:39+00:00   \n",
       "1    2022-05-21 09:18:00+00:00   \n",
       "2    2022-05-21 09:06:41+00:00   \n",
       "3    2022-05-21 09:05:02+00:00   \n",
       "4    2022-05-21 09:05:01+00:00   \n",
       "..                         ...   \n",
       "594  2022-05-30 17:04:59+00:00   \n",
       "595  2022-05-30 17:04:51+00:00   \n",
       "596  2022-05-30 15:42:04+00:00   \n",
       "597  2022-05-30 15:04:00+00:00   \n",
       "598  2022-05-30 13:51:35+00:00   \n",
       "\n",
       "                                             full_text  \n",
       "0    b'RT @NetflixNaija: This friendship is thicker...  \n",
       "1    b'RT @ISWISPodcast: FK or Jola, Who is more li...  \n",
       "2    b'RT @ISWISPodcast: FK or Jola, Who is more li...  \n",
       "3    b\"The audition will be for a supporting or cam...  \n",
       "4    b\"You could be selected for the next EbonyLife...  \n",
       "..                                                 ...  \n",
       "594  b'Another Episode of #4CornersPodcast OUT NOW....  \n",
       "595  b'Another Episode of #4CornersPodcast OUT NOW....  \n",
       "596  b'I finished watching #bloodsisters and come r...  \n",
       "597  b'#BloodSisters was worth the hype, I loved d ...  \n",
       "598  b'RT @NetflixNaija: This friendship is thicker...  \n",
       "\n",
       "[599 rows x 2 columns]"
      ]
     },
     "execution_count": 50,
     "metadata": {},
     "output_type": "execute_result"
    }
   ],
   "source": [
    "df"
   ]
  },
  {
   "cell_type": "code",
   "execution_count": 51,
   "metadata": {},
   "outputs": [],
   "source": [
    "#checking quick attributes of the data"
   ]
  },
  {
   "cell_type": "code",
   "execution_count": 52,
   "metadata": {},
   "outputs": [
    {
     "data": {
      "text/html": [
       "<div>\n",
       "<style scoped>\n",
       "    .dataframe tbody tr th:only-of-type {\n",
       "        vertical-align: middle;\n",
       "    }\n",
       "\n",
       "    .dataframe tbody tr th {\n",
       "        vertical-align: top;\n",
       "    }\n",
       "\n",
       "    .dataframe thead th {\n",
       "        text-align: right;\n",
       "    }\n",
       "</style>\n",
       "<table border=\"1\" class=\"dataframe\">\n",
       "  <thead>\n",
       "    <tr style=\"text-align: right;\">\n",
       "      <th></th>\n",
       "      <th>tweet_time</th>\n",
       "      <th>full_text</th>\n",
       "    </tr>\n",
       "  </thead>\n",
       "  <tbody>\n",
       "    <tr>\n",
       "      <th>0</th>\n",
       "      <td>2022-05-21 09:24:39+00:00</td>\n",
       "      <td>b'RT @NetflixNaija: This friendship is thicker...</td>\n",
       "    </tr>\n",
       "    <tr>\n",
       "      <th>1</th>\n",
       "      <td>2022-05-21 09:18:00+00:00</td>\n",
       "      <td>b'RT @ISWISPodcast: FK or Jola, Who is more li...</td>\n",
       "    </tr>\n",
       "    <tr>\n",
       "      <th>2</th>\n",
       "      <td>2022-05-21 09:06:41+00:00</td>\n",
       "      <td>b'RT @ISWISPodcast: FK or Jola, Who is more li...</td>\n",
       "    </tr>\n",
       "    <tr>\n",
       "      <th>3</th>\n",
       "      <td>2022-05-21 09:05:02+00:00</td>\n",
       "      <td>b\"The audition will be for a supporting or cam...</td>\n",
       "    </tr>\n",
       "    <tr>\n",
       "      <th>4</th>\n",
       "      <td>2022-05-21 09:05:01+00:00</td>\n",
       "      <td>b\"You could be selected for the next EbonyLife...</td>\n",
       "    </tr>\n",
       "  </tbody>\n",
       "</table>\n",
       "</div>"
      ],
      "text/plain": [
       "                  tweet_time  \\\n",
       "0  2022-05-21 09:24:39+00:00   \n",
       "1  2022-05-21 09:18:00+00:00   \n",
       "2  2022-05-21 09:06:41+00:00   \n",
       "3  2022-05-21 09:05:02+00:00   \n",
       "4  2022-05-21 09:05:01+00:00   \n",
       "\n",
       "                                           full_text  \n",
       "0  b'RT @NetflixNaija: This friendship is thicker...  \n",
       "1  b'RT @ISWISPodcast: FK or Jola, Who is more li...  \n",
       "2  b'RT @ISWISPodcast: FK or Jola, Who is more li...  \n",
       "3  b\"The audition will be for a supporting or cam...  \n",
       "4  b\"You could be selected for the next EbonyLife...  "
      ]
     },
     "execution_count": 52,
     "metadata": {},
     "output_type": "execute_result"
    }
   ],
   "source": [
    "df.head(5)"
   ]
  },
  {
   "cell_type": "code",
   "execution_count": 53,
   "metadata": {},
   "outputs": [
    {
     "data": {
      "text/html": [
       "<div>\n",
       "<style scoped>\n",
       "    .dataframe tbody tr th:only-of-type {\n",
       "        vertical-align: middle;\n",
       "    }\n",
       "\n",
       "    .dataframe tbody tr th {\n",
       "        vertical-align: top;\n",
       "    }\n",
       "\n",
       "    .dataframe thead th {\n",
       "        text-align: right;\n",
       "    }\n",
       "</style>\n",
       "<table border=\"1\" class=\"dataframe\">\n",
       "  <thead>\n",
       "    <tr style=\"text-align: right;\">\n",
       "      <th></th>\n",
       "      <th>tweet_time</th>\n",
       "      <th>full_text</th>\n",
       "    </tr>\n",
       "  </thead>\n",
       "  <tbody>\n",
       "    <tr>\n",
       "      <th>594</th>\n",
       "      <td>2022-05-30 17:04:59+00:00</td>\n",
       "      <td>b'Another Episode of #4CornersPodcast OUT NOW....</td>\n",
       "    </tr>\n",
       "    <tr>\n",
       "      <th>595</th>\n",
       "      <td>2022-05-30 17:04:51+00:00</td>\n",
       "      <td>b'Another Episode of #4CornersPodcast OUT NOW....</td>\n",
       "    </tr>\n",
       "    <tr>\n",
       "      <th>596</th>\n",
       "      <td>2022-05-30 15:42:04+00:00</td>\n",
       "      <td>b'I finished watching #bloodsisters and come r...</td>\n",
       "    </tr>\n",
       "    <tr>\n",
       "      <th>597</th>\n",
       "      <td>2022-05-30 15:04:00+00:00</td>\n",
       "      <td>b'#BloodSisters was worth the hype, I loved d ...</td>\n",
       "    </tr>\n",
       "    <tr>\n",
       "      <th>598</th>\n",
       "      <td>2022-05-30 13:51:35+00:00</td>\n",
       "      <td>b'RT @NetflixNaija: This friendship is thicker...</td>\n",
       "    </tr>\n",
       "  </tbody>\n",
       "</table>\n",
       "</div>"
      ],
      "text/plain": [
       "                    tweet_time  \\\n",
       "594  2022-05-30 17:04:59+00:00   \n",
       "595  2022-05-30 17:04:51+00:00   \n",
       "596  2022-05-30 15:42:04+00:00   \n",
       "597  2022-05-30 15:04:00+00:00   \n",
       "598  2022-05-30 13:51:35+00:00   \n",
       "\n",
       "                                             full_text  \n",
       "594  b'Another Episode of #4CornersPodcast OUT NOW....  \n",
       "595  b'Another Episode of #4CornersPodcast OUT NOW....  \n",
       "596  b'I finished watching #bloodsisters and come r...  \n",
       "597  b'#BloodSisters was worth the hype, I loved d ...  \n",
       "598  b'RT @NetflixNaija: This friendship is thicker...  "
      ]
     },
     "execution_count": 53,
     "metadata": {},
     "output_type": "execute_result"
    }
   ],
   "source": [
    "df.tail(5)\n"
   ]
  },
  {
   "cell_type": "code",
   "execution_count": 54,
   "metadata": {},
   "outputs": [
    {
     "data": {
      "text/plain": [
       "(599, 2)"
      ]
     },
     "execution_count": 54,
     "metadata": {},
     "output_type": "execute_result"
    }
   ],
   "source": [
    "df.shape"
   ]
  },
  {
   "cell_type": "code",
   "execution_count": 55,
   "metadata": {},
   "outputs": [],
   "source": [
    "#599 rows(implies 599 tweets were scraped)"
   ]
  },
  {
   "cell_type": "code",
   "execution_count": 56,
   "metadata": {},
   "outputs": [
    {
     "data": {
      "text/plain": [
       "tweet_time    0\n",
       "full_text     0\n",
       "dtype: int64"
      ]
     },
     "execution_count": 56,
     "metadata": {},
     "output_type": "execute_result"
    }
   ],
   "source": [
    "df.isnull().sum()"
   ]
  },
  {
   "cell_type": "code",
   "execution_count": 57,
   "metadata": {},
   "outputs": [],
   "source": [
    "#Data Cleaning\n",
    "#We write a clean tweet function\n",
    "stop_words = set(stopwords.words('english'))\n",
    "def clean_text(text):  \n",
    "    pat1 = r'@[^ ]+'                   \n",
    "    pat2 = r'https?://[A-Za-z0-9./]+'  \n",
    "    pat3 = r'\\'s'                      \n",
    "    pat4 = r'\\#\\w+'                     \n",
    "    pat5 = r'&amp '                     \n",
    "    pat6 = r'[^A-Za-z\\s]'               \n",
    "    combined_pat = r'|'.join((pat1, pat2,pat3,pat4,pat5, pat6))\n",
    "    text = re.sub(combined_pat,\"\",text).lower()\n",
    "    return text.strip()"
   ]
  },
  {
   "cell_type": "code",
   "execution_count": 58,
   "metadata": {},
   "outputs": [],
   "source": [
    "df['clean_tweets']=df['full_text'].apply(clean)\n",
    "df['clean_tweets']=df['full_text'].apply(clean_text)\n"
   ]
  },
  {
   "cell_type": "code",
   "execution_count": 59,
   "metadata": {},
   "outputs": [
    {
     "data": {
      "text/plain": [
       "0    brt  this friendship is thicker than water and...\n",
       "1    brt  fk or jola who is more likely to kill som...\n",
       "2    brt  fk or jola who is more likely to kill som...\n",
       "3    bthe audition will be for a supporting or came...\n",
       "4    byou could be selected for the next ebonylife ...\n",
       "Name: clean_tweets, dtype: object"
      ]
     },
     "execution_count": 59,
     "metadata": {},
     "output_type": "execute_result"
    }
   ],
   "source": [
    "df['clean_tweets'].head()\n"
   ]
  },
  {
   "cell_type": "code",
   "execution_count": 60,
   "metadata": {},
   "outputs": [
    {
     "name": "stdout",
     "output_type": "stream",
     "text": [
      "Running sentiment process\n"
     ]
    }
   ],
   "source": [
    "#Using TextBlob API for assignment of polarity and sentiment\n",
    "print(\"Running sentiment process\")\n",
    "for row in df.itertuples():\n",
    "    tweet = df.at[row[0], 'clean_tweets']\n",
    "#run sentiment using TextBlob\n",
    "    analysis = TextBlob(tweet)\n",
    "#set value to dataframe\n",
    "    df.at[row[0], 'polarity'] = analysis.sentiment[0]\n",
    "    df.at[row[0], 'subjectivity'] = analysis.sentiment[1]\n",
    "#Create Positive / negative column depending on polarity\n",
    "    if analysis.sentiment[0]>0:\n",
    "        df.at[row[0], 'Sentiment'] = \"Positive\"\n",
    "    elif analysis.sentiment[0]<0:\n",
    "        df.at[row[0], 'Sentiment'] = \"Negative\"\n",
    "    else:\n",
    "        df.at[row[0], 'Sentiment'] = \"Neutral\""
   ]
  },
  {
   "cell_type": "code",
   "execution_count": 61,
   "metadata": {},
   "outputs": [
    {
     "data": {
      "text/html": [
       "<div>\n",
       "<style scoped>\n",
       "    .dataframe tbody tr th:only-of-type {\n",
       "        vertical-align: middle;\n",
       "    }\n",
       "\n",
       "    .dataframe tbody tr th {\n",
       "        vertical-align: top;\n",
       "    }\n",
       "\n",
       "    .dataframe thead th {\n",
       "        text-align: right;\n",
       "    }\n",
       "</style>\n",
       "<table border=\"1\" class=\"dataframe\">\n",
       "  <thead>\n",
       "    <tr style=\"text-align: right;\">\n",
       "      <th></th>\n",
       "      <th>clean_tweets</th>\n",
       "      <th>polarity</th>\n",
       "      <th>Sentiment</th>\n",
       "    </tr>\n",
       "  </thead>\n",
       "  <tbody>\n",
       "    <tr>\n",
       "      <th>0</th>\n",
       "      <td>brt  this friendship is thicker than water and...</td>\n",
       "      <td>0.000</td>\n",
       "      <td>Neutral</td>\n",
       "    </tr>\n",
       "    <tr>\n",
       "      <th>1</th>\n",
       "      <td>brt  fk or jola who is more likely to kill som...</td>\n",
       "      <td>0.250</td>\n",
       "      <td>Positive</td>\n",
       "    </tr>\n",
       "    <tr>\n",
       "      <th>2</th>\n",
       "      <td>brt  fk or jola who is more likely to kill som...</td>\n",
       "      <td>0.250</td>\n",
       "      <td>Positive</td>\n",
       "    </tr>\n",
       "    <tr>\n",
       "      <th>3</th>\n",
       "      <td>bthe audition will be for a supporting or came...</td>\n",
       "      <td>0.125</td>\n",
       "      <td>Positive</td>\n",
       "    </tr>\n",
       "    <tr>\n",
       "      <th>4</th>\n",
       "      <td>byou could be selected for the next ebonylife ...</td>\n",
       "      <td>0.000</td>\n",
       "      <td>Neutral</td>\n",
       "    </tr>\n",
       "  </tbody>\n",
       "</table>\n",
       "</div>"
      ],
      "text/plain": [
       "                                        clean_tweets  polarity Sentiment\n",
       "0  brt  this friendship is thicker than water and...     0.000   Neutral\n",
       "1  brt  fk or jola who is more likely to kill som...     0.250  Positive\n",
       "2  brt  fk or jola who is more likely to kill som...     0.250  Positive\n",
       "3  bthe audition will be for a supporting or came...     0.125  Positive\n",
       "4  byou could be selected for the next ebonylife ...     0.000   Neutral"
      ]
     },
     "execution_count": 61,
     "metadata": {},
     "output_type": "execute_result"
    }
   ],
   "source": [
    "df[['clean_tweets','polarity','Sentiment']].head()"
   ]
  },
  {
   "cell_type": "code",
   "execution_count": 62,
   "metadata": {},
   "outputs": [
    {
     "data": {
      "text/html": [
       "<div>\n",
       "<style scoped>\n",
       "    .dataframe tbody tr th:only-of-type {\n",
       "        vertical-align: middle;\n",
       "    }\n",
       "\n",
       "    .dataframe tbody tr th {\n",
       "        vertical-align: top;\n",
       "    }\n",
       "\n",
       "    .dataframe thead th {\n",
       "        text-align: right;\n",
       "    }\n",
       "</style>\n",
       "<table border=\"1\" class=\"dataframe\">\n",
       "  <thead>\n",
       "    <tr style=\"text-align: right;\">\n",
       "      <th></th>\n",
       "      <th>clean_tweets</th>\n",
       "      <th>polarity</th>\n",
       "      <th>Sentiment</th>\n",
       "    </tr>\n",
       "  </thead>\n",
       "  <tbody>\n",
       "    <tr>\n",
       "      <th>594</th>\n",
       "      <td>banother episode of  out now we dive into one ...</td>\n",
       "      <td>0.400000</td>\n",
       "      <td>Positive</td>\n",
       "    </tr>\n",
       "    <tr>\n",
       "      <th>595</th>\n",
       "      <td>banother episode of  out now we dive into one ...</td>\n",
       "      <td>0.400000</td>\n",
       "      <td>Positive</td>\n",
       "    </tr>\n",
       "    <tr>\n",
       "      <th>596</th>\n",
       "      <td>bi finished watching  and come really dey love...</td>\n",
       "      <td>0.350000</td>\n",
       "      <td>Positive</td>\n",
       "    </tr>\n",
       "    <tr>\n",
       "      <th>597</th>\n",
       "      <td>b was worth the hype i loved d fact that ramse...</td>\n",
       "      <td>0.372619</td>\n",
       "      <td>Positive</td>\n",
       "    </tr>\n",
       "    <tr>\n",
       "      <th>598</th>\n",
       "      <td>brt  this friendship is thicker than water and...</td>\n",
       "      <td>0.000000</td>\n",
       "      <td>Neutral</td>\n",
       "    </tr>\n",
       "  </tbody>\n",
       "</table>\n",
       "</div>"
      ],
      "text/plain": [
       "                                          clean_tweets  polarity Sentiment\n",
       "594  banother episode of  out now we dive into one ...  0.400000  Positive\n",
       "595  banother episode of  out now we dive into one ...  0.400000  Positive\n",
       "596  bi finished watching  and come really dey love...  0.350000  Positive\n",
       "597  b was worth the hype i loved d fact that ramse...  0.372619  Positive\n",
       "598  brt  this friendship is thicker than water and...  0.000000   Neutral"
      ]
     },
     "execution_count": 62,
     "metadata": {},
     "output_type": "execute_result"
    }
   ],
   "source": [
    "df[['clean_tweets','polarity','Sentiment']].tail()"
   ]
  },
  {
   "cell_type": "code",
   "execution_count": 63,
   "metadata": {},
   "outputs": [
    {
     "name": "stdout",
     "output_type": "stream",
     "text": [
      "There are 61687 words in the combination of all tweets\n"
     ]
    },
    {
     "data": {
      "image/png": "[encoded data removed]",
      "text/plain": [
       "<Figure size 360x360 with 1 Axes>"
      ]
     },
     "metadata": {
      "needs_background": "light"
     },
     "output_type": "display_data"
    }
   ],
   "source": [
    "#Running Quick Visualization\n",
    "#Drawing a wordcloud of cleanied tweets\n",
    "text=\"\".join(text for text in df.clean_tweets)\n",
    "print(\"There are {} words in the combination of all tweets\".format(len(text)))\n",
    "wordcloud = WordCloud(width = 3000, height = 2000, random_state=1, background_color='white', collocations=False, stopwords = STOPWORDS).generate(text)\n",
    "plt.figure(figsize=(5,5))\n",
    "plt.imshow(wordcloud)\n",
    "plt.axis(\"off\")\n",
    "plt.savefig('Word Cloud of Tweets')\n",
    "plt.show()"
   ]
  },
  {
   "cell_type": "code",
   "execution_count": 64,
   "metadata": {},
   "outputs": [
    {
     "data": {
      "image/png": "[encoded data removed]",
      "text/plain": [
       "<Figure size 432x288 with 1 Axes>"
      ]
     },
     "metadata": {
      "needs_background": "light"
     },
     "output_type": "display_data"
    }
   ],
   "source": [
    "#Visualizing the Sentiment Column\n",
    "sns.histplot(data=df, x=\"Sentiment\", hue=\"Sentiment\", shrink=.8, alpha=.8, legend=False)\n",
    "plt.savefig('Distribution of Sentiment')"
   ]
  },
  {
   "cell_type": "code",
   "execution_count": 65,
   "metadata": {},
   "outputs": [],
   "source": [
    "#Importing Requisite ML Libraries\n",
    "from nltk.stem import WordNetLemmatizer\n",
    "# sklearn\n",
    "from sklearn.svm import LinearSVC\n",
    "from sklearn.naive_bayes import BernoulliNB\n",
    "from sklearn.naive_bayes import MultinomialNB\n",
    "from sklearn.linear_model import LogisticRegression\n",
    "from sklearn.model_selection import train_test_split\n",
    "from sklearn.feature_extraction.text import TfidfVectorizer\n",
    "from sklearn.metrics import confusion_matrix, classification_report\n",
    "pd.options.mode.chained_assignment = None #disabling a pandas assignment warning on sentiment encoding\n",
    "\n",
    "\n",
    "from sklearn import model_selection, preprocessing, metrics, linear_model, svm\n",
    "from sklearn.feature_extraction.text import TfidfVectorizer, CountVectorizer\n",
    "from imblearn.over_sampling import RandomOverSampler\n",
    "from imblearn.under_sampling import (RandomUnderSampler, \n",
    "                                    NearMiss, \n",
    "                                    InstanceHardnessThreshold,\n",
    "                                    CondensedNearestNeighbour,\n",
    "                                    EditedNearestNeighbours,\n",
    "                                    RepeatedEditedNearestNeighbours,\n",
    "                                    AllKNN,\n",
    "                                    NeighbourhoodCleaningRule,\n",
    "                                    OneSidedSelection,\n",
    "                                    TomekLinks)\n",
    "                                "
   ]
  },
  {
   "cell_type": "code",
   "execution_count": 66,
   "metadata": {},
   "outputs": [
    {
     "data": {
      "text/html": [
       "<div>\n",
       "<style scoped>\n",
       "    .dataframe tbody tr th:only-of-type {\n",
       "        vertical-align: middle;\n",
       "    }\n",
       "\n",
       "    .dataframe tbody tr th {\n",
       "        vertical-align: top;\n",
       "    }\n",
       "\n",
       "    .dataframe thead th {\n",
       "        text-align: right;\n",
       "    }\n",
       "</style>\n",
       "<table border=\"1\" class=\"dataframe\">\n",
       "  <thead>\n",
       "    <tr style=\"text-align: right;\">\n",
       "      <th></th>\n",
       "      <th>clean_tweets</th>\n",
       "      <th>Sentiment</th>\n",
       "    </tr>\n",
       "  </thead>\n",
       "  <tbody>\n",
       "    <tr>\n",
       "      <th>0</th>\n",
       "      <td>brt  this friendship is thicker than water and...</td>\n",
       "      <td>Neutral</td>\n",
       "    </tr>\n",
       "    <tr>\n",
       "      <th>1</th>\n",
       "      <td>brt  fk or jola who is more likely to kill som...</td>\n",
       "      <td>Positive</td>\n",
       "    </tr>\n",
       "    <tr>\n",
       "      <th>2</th>\n",
       "      <td>brt  fk or jola who is more likely to kill som...</td>\n",
       "      <td>Positive</td>\n",
       "    </tr>\n",
       "    <tr>\n",
       "      <th>3</th>\n",
       "      <td>bthe audition will be for a supporting or came...</td>\n",
       "      <td>Positive</td>\n",
       "    </tr>\n",
       "    <tr>\n",
       "      <th>4</th>\n",
       "      <td>byou could be selected for the next ebonylife ...</td>\n",
       "      <td>Neutral</td>\n",
       "    </tr>\n",
       "    <tr>\n",
       "      <th>...</th>\n",
       "      <td>...</td>\n",
       "      <td>...</td>\n",
       "    </tr>\n",
       "    <tr>\n",
       "      <th>594</th>\n",
       "      <td>banother episode of  out now we dive into one ...</td>\n",
       "      <td>Positive</td>\n",
       "    </tr>\n",
       "    <tr>\n",
       "      <th>595</th>\n",
       "      <td>banother episode of  out now we dive into one ...</td>\n",
       "      <td>Positive</td>\n",
       "    </tr>\n",
       "    <tr>\n",
       "      <th>596</th>\n",
       "      <td>bi finished watching  and come really dey love...</td>\n",
       "      <td>Positive</td>\n",
       "    </tr>\n",
       "    <tr>\n",
       "      <th>597</th>\n",
       "      <td>b was worth the hype i loved d fact that ramse...</td>\n",
       "      <td>Positive</td>\n",
       "    </tr>\n",
       "    <tr>\n",
       "      <th>598</th>\n",
       "      <td>brt  this friendship is thicker than water and...</td>\n",
       "      <td>Neutral</td>\n",
       "    </tr>\n",
       "  </tbody>\n",
       "</table>\n",
       "<p>599 rows × 2 columns</p>\n",
       "</div>"
      ],
      "text/plain": [
       "                                          clean_tweets Sentiment\n",
       "0    brt  this friendship is thicker than water and...   Neutral\n",
       "1    brt  fk or jola who is more likely to kill som...  Positive\n",
       "2    brt  fk or jola who is more likely to kill som...  Positive\n",
       "3    bthe audition will be for a supporting or came...  Positive\n",
       "4    byou could be selected for the next ebonylife ...   Neutral\n",
       "..                                                 ...       ...\n",
       "594  banother episode of  out now we dive into one ...  Positive\n",
       "595  banother episode of  out now we dive into one ...  Positive\n",
       "596  bi finished watching  and come really dey love...  Positive\n",
       "597  b was worth the hype i loved d fact that ramse...  Positive\n",
       "598  brt  this friendship is thicker than water and...   Neutral\n",
       "\n",
       "[599 rows x 2 columns]"
      ]
     },
     "execution_count": 66,
     "metadata": {},
     "output_type": "execute_result"
    }
   ],
   "source": [
    "data=df[['clean_tweets','Sentiment']]\n",
    "data\n",
    "#Obtaining the data."
   ]
  },
  {
   "cell_type": "code",
   "execution_count": 67,
   "metadata": {},
   "outputs": [
    {
     "data": {
      "text/html": [
       "<div>\n",
       "<style scoped>\n",
       "    .dataframe tbody tr th:only-of-type {\n",
       "        vertical-align: middle;\n",
       "    }\n",
       "\n",
       "    .dataframe tbody tr th {\n",
       "        vertical-align: top;\n",
       "    }\n",
       "\n",
       "    .dataframe thead th {\n",
       "        text-align: right;\n",
       "    }\n",
       "</style>\n",
       "<table border=\"1\" class=\"dataframe\">\n",
       "  <thead>\n",
       "    <tr style=\"text-align: right;\">\n",
       "      <th></th>\n",
       "      <th>clean_tweets</th>\n",
       "      <th>Sentiment</th>\n",
       "    </tr>\n",
       "  </thead>\n",
       "  <tbody>\n",
       "    <tr>\n",
       "      <th>0</th>\n",
       "      <td>brt  this friendship is thicker than water and...</td>\n",
       "      <td>0</td>\n",
       "    </tr>\n",
       "    <tr>\n",
       "      <th>1</th>\n",
       "      <td>brt  fk or jola who is more likely to kill som...</td>\n",
       "      <td>1</td>\n",
       "    </tr>\n",
       "    <tr>\n",
       "      <th>2</th>\n",
       "      <td>brt  fk or jola who is more likely to kill som...</td>\n",
       "      <td>1</td>\n",
       "    </tr>\n",
       "    <tr>\n",
       "      <th>3</th>\n",
       "      <td>bthe audition will be for a supporting or came...</td>\n",
       "      <td>1</td>\n",
       "    </tr>\n",
       "    <tr>\n",
       "      <th>4</th>\n",
       "      <td>byou could be selected for the next ebonylife ...</td>\n",
       "      <td>0</td>\n",
       "    </tr>\n",
       "    <tr>\n",
       "      <th>...</th>\n",
       "      <td>...</td>\n",
       "      <td>...</td>\n",
       "    </tr>\n",
       "    <tr>\n",
       "      <th>594</th>\n",
       "      <td>banother episode of  out now we dive into one ...</td>\n",
       "      <td>1</td>\n",
       "    </tr>\n",
       "    <tr>\n",
       "      <th>595</th>\n",
       "      <td>banother episode of  out now we dive into one ...</td>\n",
       "      <td>1</td>\n",
       "    </tr>\n",
       "    <tr>\n",
       "      <th>596</th>\n",
       "      <td>bi finished watching  and come really dey love...</td>\n",
       "      <td>1</td>\n",
       "    </tr>\n",
       "    <tr>\n",
       "      <th>597</th>\n",
       "      <td>b was worth the hype i loved d fact that ramse...</td>\n",
       "      <td>1</td>\n",
       "    </tr>\n",
       "    <tr>\n",
       "      <th>598</th>\n",
       "      <td>brt  this friendship is thicker than water and...</td>\n",
       "      <td>0</td>\n",
       "    </tr>\n",
       "  </tbody>\n",
       "</table>\n",
       "<p>599 rows × 2 columns</p>\n",
       "</div>"
      ],
      "text/plain": [
       "                                          clean_tweets  Sentiment\n",
       "0    brt  this friendship is thicker than water and...          0\n",
       "1    brt  fk or jola who is more likely to kill som...          1\n",
       "2    brt  fk or jola who is more likely to kill som...          1\n",
       "3    bthe audition will be for a supporting or came...          1\n",
       "4    byou could be selected for the next ebonylife ...          0\n",
       "..                                                 ...        ...\n",
       "594  banother episode of  out now we dive into one ...          1\n",
       "595  banother episode of  out now we dive into one ...          1\n",
       "596  bi finished watching  and come really dey love...          1\n",
       "597  b was worth the hype i loved d fact that ramse...          1\n",
       "598  brt  this friendship is thicker than water and...          0\n",
       "\n",
       "[599 rows x 2 columns]"
      ]
     },
     "execution_count": 67,
     "metadata": {},
     "output_type": "execute_result"
    }
   ],
   "source": [
    "#Label Encoding the Sentiment Column\n",
    "data['Sentiment'] = data['Sentiment'].replace('Positive',1)\n",
    "data['Sentiment'] = data['Sentiment'].replace('Negative',-1)\n",
    "data['Sentiment'] = data['Sentiment'].replace('Neutral',0)\n",
    "data"
   ]
  },
  {
   "cell_type": "code",
   "execution_count": 68,
   "metadata": {},
   "outputs": [
    {
     "data": {
      "text/plain": [
       "array([ 0,  1, -1], dtype=int64)"
      ]
     },
     "execution_count": 68,
     "metadata": {},
     "output_type": "execute_result"
    }
   ],
   "source": [
    "#3 unique values on the sentiment column\n",
    "#-1,Negative;0,Neutral;1,Positive.\n",
    "data['Sentiment'].unique()"
   ]
  },
  {
   "cell_type": "code",
   "execution_count": 69,
   "metadata": {},
   "outputs": [
    {
     "data": {
      "text/plain": [
       " 0    249\n",
       " 1    236\n",
       "-1    114\n",
       "Name: Sentiment, dtype: int64"
      ]
     },
     "execution_count": 69,
     "metadata": {},
     "output_type": "execute_result"
    }
   ],
   "source": [
    "#computing unique value counts\n",
    "data['Sentiment'].value_counts()"
   ]
  },
  {
   "cell_type": "code",
   "execution_count": 70,
   "metadata": {},
   "outputs": [],
   "source": [
    "#Our dataset is fairly balanced for the statistics we have computed above\n",
    "#"
   ]
  },
  {
   "cell_type": "code",
   "execution_count": 71,
   "metadata": {},
   "outputs": [],
   "source": [
    "#Modelling"
   ]
  },
  {
   "cell_type": "code",
   "execution_count": 72,
   "metadata": {},
   "outputs": [
    {
     "data": {
      "text/html": [
       "<div>\n",
       "<style scoped>\n",
       "    .dataframe tbody tr th:only-of-type {\n",
       "        vertical-align: middle;\n",
       "    }\n",
       "\n",
       "    .dataframe tbody tr th {\n",
       "        vertical-align: top;\n",
       "    }\n",
       "\n",
       "    .dataframe thead th {\n",
       "        text-align: right;\n",
       "    }\n",
       "</style>\n",
       "<table border=\"1\" class=\"dataframe\">\n",
       "  <thead>\n",
       "    <tr style=\"text-align: right;\">\n",
       "      <th></th>\n",
       "      <th>clean_tweets</th>\n",
       "      <th>Sentiment</th>\n",
       "      <th>tokenized_tweets</th>\n",
       "    </tr>\n",
       "  </thead>\n",
       "  <tbody>\n",
       "    <tr>\n",
       "      <th>0</th>\n",
       "      <td>brt  this friendship is thicker than water and...</td>\n",
       "      <td>0</td>\n",
       "      <td>[brt, this, friendship, is, thicker, than, wat...</td>\n",
       "    </tr>\n",
       "    <tr>\n",
       "      <th>1</th>\n",
       "      <td>brt  fk or jola who is more likely to kill som...</td>\n",
       "      <td>1</td>\n",
       "      <td>[brt, fk, or, jola, who, is, more, likely, to,...</td>\n",
       "    </tr>\n",
       "    <tr>\n",
       "      <th>2</th>\n",
       "      <td>brt  fk or jola who is more likely to kill som...</td>\n",
       "      <td>1</td>\n",
       "      <td>[brt, fk, or, jola, who, is, more, likely, to,...</td>\n",
       "    </tr>\n",
       "    <tr>\n",
       "      <th>3</th>\n",
       "      <td>bthe audition will be for a supporting or came...</td>\n",
       "      <td>1</td>\n",
       "      <td>[bthe, audition, will, be, for, a, supporting,...</td>\n",
       "    </tr>\n",
       "    <tr>\n",
       "      <th>4</th>\n",
       "      <td>byou could be selected for the next ebonylife ...</td>\n",
       "      <td>0</td>\n",
       "      <td>[byou, could, be, selected, for, the, next, eb...</td>\n",
       "    </tr>\n",
       "    <tr>\n",
       "      <th>...</th>\n",
       "      <td>...</td>\n",
       "      <td>...</td>\n",
       "      <td>...</td>\n",
       "    </tr>\n",
       "    <tr>\n",
       "      <th>594</th>\n",
       "      <td>banother episode of  out now we dive into one ...</td>\n",
       "      <td>1</td>\n",
       "      <td>[banother, episode, of, out, now, we, dive, in...</td>\n",
       "    </tr>\n",
       "    <tr>\n",
       "      <th>595</th>\n",
       "      <td>banother episode of  out now we dive into one ...</td>\n",
       "      <td>1</td>\n",
       "      <td>[banother, episode, of, out, now, we, dive, in...</td>\n",
       "    </tr>\n",
       "    <tr>\n",
       "      <th>596</th>\n",
       "      <td>bi finished watching  and come really dey love...</td>\n",
       "      <td>1</td>\n",
       "      <td>[bi, finished, watching, and, come, really, de...</td>\n",
       "    </tr>\n",
       "    <tr>\n",
       "      <th>597</th>\n",
       "      <td>b was worth the hype i loved d fact that ramse...</td>\n",
       "      <td>1</td>\n",
       "      <td>[b, was, worth, the, hype, i, loved, d, fact, ...</td>\n",
       "    </tr>\n",
       "    <tr>\n",
       "      <th>598</th>\n",
       "      <td>brt  this friendship is thicker than water and...</td>\n",
       "      <td>0</td>\n",
       "      <td>[brt, this, friendship, is, thicker, than, wat...</td>\n",
       "    </tr>\n",
       "  </tbody>\n",
       "</table>\n",
       "<p>599 rows × 3 columns</p>\n",
       "</div>"
      ],
      "text/plain": [
       "                                          clean_tweets  Sentiment  \\\n",
       "0    brt  this friendship is thicker than water and...          0   \n",
       "1    brt  fk or jola who is more likely to kill som...          1   \n",
       "2    brt  fk or jola who is more likely to kill som...          1   \n",
       "3    bthe audition will be for a supporting or came...          1   \n",
       "4    byou could be selected for the next ebonylife ...          0   \n",
       "..                                                 ...        ...   \n",
       "594  banother episode of  out now we dive into one ...          1   \n",
       "595  banother episode of  out now we dive into one ...          1   \n",
       "596  bi finished watching  and come really dey love...          1   \n",
       "597  b was worth the hype i loved d fact that ramse...          1   \n",
       "598  brt  this friendship is thicker than water and...          0   \n",
       "\n",
       "                                      tokenized_tweets  \n",
       "0    [brt, this, friendship, is, thicker, than, wat...  \n",
       "1    [brt, fk, or, jola, who, is, more, likely, to,...  \n",
       "2    [brt, fk, or, jola, who, is, more, likely, to,...  \n",
       "3    [bthe, audition, will, be, for, a, supporting,...  \n",
       "4    [byou, could, be, selected, for, the, next, eb...  \n",
       "..                                                 ...  \n",
       "594  [banother, episode, of, out, now, we, dive, in...  \n",
       "595  [banother, episode, of, out, now, we, dive, in...  \n",
       "596  [bi, finished, watching, and, come, really, de...  \n",
       "597  [b, was, worth, the, hype, i, loved, d, fact, ...  \n",
       "598  [brt, this, friendship, is, thicker, than, wat...  \n",
       "\n",
       "[599 rows x 3 columns]"
      ]
     },
     "execution_count": 72,
     "metadata": {},
     "output_type": "execute_result"
    }
   ],
   "source": [
    "#Start with tokenizing the tweets\n",
    "from nltk.tokenize import TweetTokenizer\n",
    "  \n",
    "# Create a reference variable for Class TweetTokenizer\n",
    "tt = TweetTokenizer()\n",
    "data['tokenized_tweets'] = data['clean_tweets'].apply(tt.tokenize)\n",
    "data['tokenized_tweets'].head()\n",
    "data"
   ]
  },
  {
   "cell_type": "code",
   "execution_count": 73,
   "metadata": {},
   "outputs": [
    {
     "data": {
      "text/plain": [
       "0    [brt, thi, friendship, is, thicker, than, wate...\n",
       "1    [brt, fk, or, jola, who, is, more, like, to, k...\n",
       "2    [brt, fk, or, jola, who, is, more, like, to, k...\n",
       "3    [bthe, audit, will, be, for, a, support, or, c...\n",
       "4    [byou, could, be, select, for, the, next, ebon...\n",
       "Name: stemmed_tweets, dtype: object"
      ]
     },
     "execution_count": 73,
     "metadata": {},
     "output_type": "execute_result"
    }
   ],
   "source": [
    "#stemming the tweets\n",
    "import nltk\n",
    "st = nltk.PorterStemmer()\n",
    "def stemming_on_text(Data):\n",
    "    text = [st.stem(word) for word in Data]\n",
    "    return text\n",
    "data['stemmed_tweets']= data['tokenized_tweets'].apply(lambda x: stemming_on_text(x))\n",
    "data['stemmed_tweets'].head()\n"
   ]
  },
  {
   "cell_type": "code",
   "execution_count": 74,
   "metadata": {},
   "outputs": [],
   "source": [
    "X=data.clean_tweets\n",
    "y=data.Sentiment\n",
    "y = np.array(y)\n",
    "from sklearn import metrics\n",
    "from sklearn.metrics import accuracy_score\n",
    "\n",
    "X_train, X_test, y_train, y_test = train_test_split(X,y,test_size = 0.15, random_state =2000)"
   ]
  },
  {
   "cell_type": "code",
   "execution_count": 75,
   "metadata": {},
   "outputs": [],
   "source": [
    "#Vectorizing the tweets\n",
    "tfidf_vect = TfidfVectorizer()\n",
    "tfidf_vect.fit(X)\n",
    "X_train_tfidf =  tfidf_vect.transform(X_train)\n",
    "X_test_tfidf =  tfidf_vect.transform(X_test)"
   ]
  },
  {
   "cell_type": "code",
   "execution_count": 76,
   "metadata": {},
   "outputs": [],
   "source": [
    "#Modelling the data \n",
    "def train_model(name_of_classifier,classifier, feature_vector_train, label, feature_vector_test):\n",
    "    # fit the training dataset on the classifier\n",
    "    classifier.fit(feature_vector_train, label)\n",
    "    \n",
    "    # predict the labels on validation dataset\n",
    "    predictions = classifier.predict(feature_vector_test)\n",
    "    f1_micro = metrics.f1_score(y_test,predictions,average = 'micro')\n",
    "    f1_macro = metrics.f1_score(y_test,predictions,average = 'macro')\n",
    "    f1_weighted = metrics.f1_score(y_test,predictions,average = 'weighted')\n",
    "    accuracy = accuracy_score(y_test,predictions)\n",
    "    return pd.DataFrame({'model':[name_of_classifier],'f1_micro':[f1_micro],'f1_macro':[f1_macro],'f1_weighted':[f1_weighted],'accuracy':[accuracy]})"
   ]
  },
  {
   "cell_type": "code",
   "execution_count": 77,
   "metadata": {},
   "outputs": [
    {
     "data": {
      "text/html": [
       "<div>\n",
       "<style scoped>\n",
       "    .dataframe tbody tr th:only-of-type {\n",
       "        vertical-align: middle;\n",
       "    }\n",
       "\n",
       "    .dataframe tbody tr th {\n",
       "        vertical-align: top;\n",
       "    }\n",
       "\n",
       "    .dataframe thead th {\n",
       "        text-align: right;\n",
       "    }\n",
       "</style>\n",
       "<table border=\"1\" class=\"dataframe\">\n",
       "  <thead>\n",
       "    <tr style=\"text-align: right;\">\n",
       "      <th></th>\n",
       "      <th>model</th>\n",
       "      <th>f1_micro</th>\n",
       "      <th>f1_macro</th>\n",
       "      <th>f1_weighted</th>\n",
       "      <th>accuracy</th>\n",
       "    </tr>\n",
       "  </thead>\n",
       "  <tbody>\n",
       "    <tr>\n",
       "      <th>0</th>\n",
       "      <td>logistc_regression</td>\n",
       "      <td>0.900000</td>\n",
       "      <td>0.871068</td>\n",
       "      <td>0.893370</td>\n",
       "      <td>0.900000</td>\n",
       "    </tr>\n",
       "    <tr>\n",
       "      <th>1</th>\n",
       "      <td>SVM</td>\n",
       "      <td>0.944444</td>\n",
       "      <td>0.931262</td>\n",
       "      <td>0.942587</td>\n",
       "      <td>0.944444</td>\n",
       "    </tr>\n",
       "    <tr>\n",
       "      <th>2</th>\n",
       "      <td>BernoulliNB</td>\n",
       "      <td>0.866667</td>\n",
       "      <td>0.846100</td>\n",
       "      <td>0.862740</td>\n",
       "      <td>0.866667</td>\n",
       "    </tr>\n",
       "    <tr>\n",
       "      <th>3</th>\n",
       "      <td>MultinomialNB</td>\n",
       "      <td>0.888889</td>\n",
       "      <td>0.879788</td>\n",
       "      <td>0.887495</td>\n",
       "      <td>0.888889</td>\n",
       "    </tr>\n",
       "  </tbody>\n",
       "</table>\n",
       "</div>"
      ],
      "text/plain": [
       "                model  f1_micro  f1_macro  f1_weighted  accuracy\n",
       "0  logistc_regression  0.900000  0.871068     0.893370  0.900000\n",
       "1                 SVM  0.944444  0.931262     0.942587  0.944444\n",
       "2         BernoulliNB  0.866667  0.846100     0.862740  0.866667\n",
       "3       MultinomialNB  0.888889  0.879788     0.887495  0.888889"
      ]
     },
     "metadata": {},
     "output_type": "display_data"
    }
   ],
   "source": [
    "#Modelling without resampling the dataset\n",
    "first = train_model('logistc_regression',LogisticRegression(random_state=0, solver='lbfgs',multi_class='multinomial'),X_train_tfidf, y_train, X_test_tfidf)\n",
    "#print (\"LR Baseline, WordLevel TFIDF: \", accuracyORIGINAL)\n",
    "second = train_model('SVM',LinearSVC(),X_train_tfidf, y_train, X_test_tfidf)\n",
    "third =  train_model('BernoulliNB',BernoulliNB(),X_train_tfidf, y_train, X_test_tfidf)\n",
    "fourth =  train_model('MultinomialNB',MultinomialNB(),X_train_tfidf, y_train, X_test_tfidf)\n",
    "\n",
    "frames = [first,second,third,fourth]\n",
    "combined = pd.concat(frames)\n",
    "combined.reset_index(drop=True, inplace=True)\n",
    "display(combined)"
   ]
  },
  {
   "cell_type": "code",
   "execution_count": 78,
   "metadata": {},
   "outputs": [
    {
     "data": {
      "text/html": [
       "<div>\n",
       "<style scoped>\n",
       "    .dataframe tbody tr th:only-of-type {\n",
       "        vertical-align: middle;\n",
       "    }\n",
       "\n",
       "    .dataframe tbody tr th {\n",
       "        vertical-align: top;\n",
       "    }\n",
       "\n",
       "    .dataframe thead th {\n",
       "        text-align: right;\n",
       "    }\n",
       "</style>\n",
       "<table border=\"1\" class=\"dataframe\">\n",
       "  <thead>\n",
       "    <tr style=\"text-align: right;\">\n",
       "      <th></th>\n",
       "      <th>model</th>\n",
       "      <th>f1_micro</th>\n",
       "      <th>f1_macro</th>\n",
       "      <th>f1_weighted</th>\n",
       "      <th>accuracy</th>\n",
       "    </tr>\n",
       "  </thead>\n",
       "  <tbody>\n",
       "    <tr>\n",
       "      <th>0</th>\n",
       "      <td>logistc_regression</td>\n",
       "      <td>0.933333</td>\n",
       "      <td>0.914731</td>\n",
       "      <td>0.930304</td>\n",
       "      <td>0.933333</td>\n",
       "    </tr>\n",
       "    <tr>\n",
       "      <th>1</th>\n",
       "      <td>SVM</td>\n",
       "      <td>0.944444</td>\n",
       "      <td>0.931262</td>\n",
       "      <td>0.942587</td>\n",
       "      <td>0.944444</td>\n",
       "    </tr>\n",
       "    <tr>\n",
       "      <th>2</th>\n",
       "      <td>BernoulliNB</td>\n",
       "      <td>0.866667</td>\n",
       "      <td>0.835668</td>\n",
       "      <td>0.859259</td>\n",
       "      <td>0.866667</td>\n",
       "    </tr>\n",
       "    <tr>\n",
       "      <th>3</th>\n",
       "      <td>MultinomialNB</td>\n",
       "      <td>0.888889</td>\n",
       "      <td>0.881336</td>\n",
       "      <td>0.888005</td>\n",
       "      <td>0.888889</td>\n",
       "    </tr>\n",
       "  </tbody>\n",
       "</table>\n",
       "</div>"
      ],
      "text/plain": [
       "                model  f1_micro  f1_macro  f1_weighted  accuracy\n",
       "0  logistc_regression  0.933333  0.914731     0.930304  0.933333\n",
       "1                 SVM  0.944444  0.931262     0.942587  0.944444\n",
       "2         BernoulliNB  0.866667  0.835668     0.859259  0.866667\n",
       "3       MultinomialNB  0.888889  0.881336     0.888005  0.888889"
      ]
     },
     "metadata": {},
     "output_type": "display_data"
    }
   ],
   "source": [
    "#Modelling with Random oversampling\n",
    "ros = RandomOverSampler(random_state=777)\n",
    "ros_X_train_tfidf, ros_y_train = ros.fit_resample(X_train_tfidf, y_train)\n",
    "\n",
    "first = train_model('logistc_regression',LogisticRegression(random_state=0, solver='lbfgs',multi_class='multinomial'),ros_X_train_tfidf, ros_y_train, X_test_tfidf)\n",
    "#print (\"LR Baseline, WordLevel TFIDF: \", accuracyORIGINAL)\n",
    "second = train_model('SVM',LinearSVC(),ros_X_train_tfidf, ros_y_train, X_test_tfidf)\n",
    "third =  train_model('BernoulliNB',BernoulliNB(),ros_X_train_tfidf, ros_y_train, X_test_tfidf)\n",
    "fourth =  train_model('MultinomialNB',MultinomialNB(),ros_X_train_tfidf, ros_y_train, X_test_tfidf)\n",
    "\n",
    "frames = [first,second,third,fourth]\n",
    "combined = pd.concat(frames)\n",
    "combined.reset_index(drop=True, inplace=True)\n",
    "display(combined)"
   ]
  },
  {
   "cell_type": "code",
   "execution_count": 79,
   "metadata": {},
   "outputs": [],
   "source": [
    "#Implementing LSTM For Text Classification\n",
    "\n",
    "import nltk\n",
    "import numpy as np\n",
    "import pandas as pd\n",
    "from nltk.corpus import stopwords\n",
    "from textblob import Word\n",
    "from sklearn.preprocessing import LabelEncoder\n",
    "from collections import Counter\n",
    "import wordcloud\n",
    "from sklearn.metrics import classification_report,confusion_matrix,accuracy_score\n",
    "from tensorflow.keras.models import Sequential\n",
    "from tensorflow.keras.preprocessing.text import Tokenizer\n",
    "from tensorflow.keras.preprocessing.sequence import pad_sequences\n",
    "from tensorflow.keras.layers import Dense, Embedding, LSTM, SpatialDropout1D\n",
    "from sklearn.model_selection import train_test_split \n",
    "import matplotlib.pyplot as plt\n",
    "from nltk.tokenize import word_tokenize\n",
    "from nltk.stem import WordNetLemmatizer\n",
    "from tensorflow.keras.callbacks import EarlyStopping\n",
    "import tensorflow_addons as tfa"
   ]
  },
  {
   "cell_type": "code",
   "execution_count": 80,
   "metadata": {},
   "outputs": [
    {
     "data": {
      "text/html": [
       "<div>\n",
       "<style scoped>\n",
       "    .dataframe tbody tr th:only-of-type {\n",
       "        vertical-align: middle;\n",
       "    }\n",
       "\n",
       "    .dataframe tbody tr th {\n",
       "        vertical-align: top;\n",
       "    }\n",
       "\n",
       "    .dataframe thead th {\n",
       "        text-align: right;\n",
       "    }\n",
       "</style>\n",
       "<table border=\"1\" class=\"dataframe\">\n",
       "  <thead>\n",
       "    <tr style=\"text-align: right;\">\n",
       "      <th></th>\n",
       "      <th>clean_tweets</th>\n",
       "      <th>Sentiment</th>\n",
       "      <th>tokenized_tweets</th>\n",
       "      <th>stemmed_tweets</th>\n",
       "    </tr>\n",
       "  </thead>\n",
       "  <tbody>\n",
       "    <tr>\n",
       "      <th>0</th>\n",
       "      <td>brt  this friendship is thicker than water and...</td>\n",
       "      <td>0</td>\n",
       "      <td>[brt, this, friendship, is, thicker, than, wat...</td>\n",
       "      <td>[brt, thi, friendship, is, thicker, than, wate...</td>\n",
       "    </tr>\n",
       "    <tr>\n",
       "      <th>1</th>\n",
       "      <td>brt  fk or jola who is more likely to kill som...</td>\n",
       "      <td>1</td>\n",
       "      <td>[brt, fk, or, jola, who, is, more, likely, to,...</td>\n",
       "      <td>[brt, fk, or, jola, who, is, more, like, to, k...</td>\n",
       "    </tr>\n",
       "    <tr>\n",
       "      <th>2</th>\n",
       "      <td>brt  fk or jola who is more likely to kill som...</td>\n",
       "      <td>1</td>\n",
       "      <td>[brt, fk, or, jola, who, is, more, likely, to,...</td>\n",
       "      <td>[brt, fk, or, jola, who, is, more, like, to, k...</td>\n",
       "    </tr>\n",
       "    <tr>\n",
       "      <th>3</th>\n",
       "      <td>bthe audition will be for a supporting or came...</td>\n",
       "      <td>1</td>\n",
       "      <td>[bthe, audition, will, be, for, a, supporting,...</td>\n",
       "      <td>[bthe, audit, will, be, for, a, support, or, c...</td>\n",
       "    </tr>\n",
       "    <tr>\n",
       "      <th>4</th>\n",
       "      <td>byou could be selected for the next ebonylife ...</td>\n",
       "      <td>0</td>\n",
       "      <td>[byou, could, be, selected, for, the, next, eb...</td>\n",
       "      <td>[byou, could, be, select, for, the, next, ebon...</td>\n",
       "    </tr>\n",
       "    <tr>\n",
       "      <th>...</th>\n",
       "      <td>...</td>\n",
       "      <td>...</td>\n",
       "      <td>...</td>\n",
       "      <td>...</td>\n",
       "    </tr>\n",
       "    <tr>\n",
       "      <th>594</th>\n",
       "      <td>banother episode of  out now we dive into one ...</td>\n",
       "      <td>1</td>\n",
       "      <td>[banother, episode, of, out, now, we, dive, in...</td>\n",
       "      <td>[banoth, episod, of, out, now, we, dive, into,...</td>\n",
       "    </tr>\n",
       "    <tr>\n",
       "      <th>595</th>\n",
       "      <td>banother episode of  out now we dive into one ...</td>\n",
       "      <td>1</td>\n",
       "      <td>[banother, episode, of, out, now, we, dive, in...</td>\n",
       "      <td>[banoth, episod, of, out, now, we, dive, into,...</td>\n",
       "    </tr>\n",
       "    <tr>\n",
       "      <th>596</th>\n",
       "      <td>bi finished watching  and come really dey love...</td>\n",
       "      <td>1</td>\n",
       "      <td>[bi, finished, watching, and, come, really, de...</td>\n",
       "      <td>[bi, finish, watch, and, come, realli, dey, lo...</td>\n",
       "    </tr>\n",
       "    <tr>\n",
       "      <th>597</th>\n",
       "      <td>b was worth the hype i loved d fact that ramse...</td>\n",
       "      <td>1</td>\n",
       "      <td>[b, was, worth, the, hype, i, loved, d, fact, ...</td>\n",
       "      <td>[b, wa, worth, the, hype, i, love, d, fact, th...</td>\n",
       "    </tr>\n",
       "    <tr>\n",
       "      <th>598</th>\n",
       "      <td>brt  this friendship is thicker than water and...</td>\n",
       "      <td>0</td>\n",
       "      <td>[brt, this, friendship, is, thicker, than, wat...</td>\n",
       "      <td>[brt, thi, friendship, is, thicker, than, wate...</td>\n",
       "    </tr>\n",
       "  </tbody>\n",
       "</table>\n",
       "<p>599 rows × 4 columns</p>\n",
       "</div>"
      ],
      "text/plain": [
       "                                          clean_tweets  Sentiment  \\\n",
       "0    brt  this friendship is thicker than water and...          0   \n",
       "1    brt  fk or jola who is more likely to kill som...          1   \n",
       "2    brt  fk or jola who is more likely to kill som...          1   \n",
       "3    bthe audition will be for a supporting or came...          1   \n",
       "4    byou could be selected for the next ebonylife ...          0   \n",
       "..                                                 ...        ...   \n",
       "594  banother episode of  out now we dive into one ...          1   \n",
       "595  banother episode of  out now we dive into one ...          1   \n",
       "596  bi finished watching  and come really dey love...          1   \n",
       "597  b was worth the hype i loved d fact that ramse...          1   \n",
       "598  brt  this friendship is thicker than water and...          0   \n",
       "\n",
       "                                      tokenized_tweets  \\\n",
       "0    [brt, this, friendship, is, thicker, than, wat...   \n",
       "1    [brt, fk, or, jola, who, is, more, likely, to,...   \n",
       "2    [brt, fk, or, jola, who, is, more, likely, to,...   \n",
       "3    [bthe, audition, will, be, for, a, supporting,...   \n",
       "4    [byou, could, be, selected, for, the, next, eb...   \n",
       "..                                                 ...   \n",
       "594  [banother, episode, of, out, now, we, dive, in...   \n",
       "595  [banother, episode, of, out, now, we, dive, in...   \n",
       "596  [bi, finished, watching, and, come, really, de...   \n",
       "597  [b, was, worth, the, hype, i, loved, d, fact, ...   \n",
       "598  [brt, this, friendship, is, thicker, than, wat...   \n",
       "\n",
       "                                        stemmed_tweets  \n",
       "0    [brt, thi, friendship, is, thicker, than, wate...  \n",
       "1    [brt, fk, or, jola, who, is, more, like, to, k...  \n",
       "2    [brt, fk, or, jola, who, is, more, like, to, k...  \n",
       "3    [bthe, audit, will, be, for, a, support, or, c...  \n",
       "4    [byou, could, be, select, for, the, next, ebon...  \n",
       "..                                                 ...  \n",
       "594  [banoth, episod, of, out, now, we, dive, into,...  \n",
       "595  [banoth, episod, of, out, now, we, dive, into,...  \n",
       "596  [bi, finish, watch, and, come, realli, dey, lo...  \n",
       "597  [b, wa, worth, the, hype, i, love, d, fact, th...  \n",
       "598  [brt, thi, friendship, is, thicker, than, wate...  \n",
       "\n",
       "[599 rows x 4 columns]"
      ]
     },
     "execution_count": 80,
     "metadata": {},
     "output_type": "execute_result"
    }
   ],
   "source": [
    "#obtaining data \n",
    "data\n",
    "#data is cleaned as in previous steps,tokenized and stemmed."
   ]
  },
  {
   "cell_type": "code",
   "execution_count": null,
   "metadata": {},
   "outputs": [],
   "source": [
    "#tweets are cleaned,tokenized and lemmatized."
   ]
  },
  {
   "cell_type": "code",
   "execution_count": 81,
   "metadata": {},
   "outputs": [
    {
     "name": "stdout",
     "output_type": "stream",
     "text": [
      "Shape of label tensor: (599, 3)\n"
     ]
    }
   ],
   "source": [
    "#one hot encoding the sentiment column \n",
    "Y = pd.get_dummies(data.Sentiment).values\n",
    "print('Shape of label tensor:', Y.shape)"
   ]
  },
  {
   "cell_type": "code",
   "execution_count": 82,
   "metadata": {},
   "outputs": [
    {
     "data": {
      "text/plain": [
       "array([[0, 1, 0],\n",
       "       [0, 0, 1],\n",
       "       [0, 0, 1],\n",
       "       ...,\n",
       "       [0, 0, 1],\n",
       "       [0, 0, 1],\n",
       "       [0, 1, 0]], dtype=uint8)"
      ]
     },
     "execution_count": 82,
     "metadata": {},
     "output_type": "execute_result"
    }
   ],
   "source": [
    "#checking how Y looks like\n",
    "Y"
   ]
  },
  {
   "cell_type": "code",
   "execution_count": 83,
   "metadata": {},
   "outputs": [
    {
     "name": "stdout",
     "output_type": "stream",
     "text": [
      "Found 1086 unique tokens.\n"
     ]
    }
   ],
   "source": [
    "#Convert Lemmatized tweets to vectors that will be used\n",
    "# The maximum number of words to be used. (most frequent)\n",
    "MAX_NB_WORDS = 500\n",
    "# Max number of words in each tweets.\n",
    "MAX_SEQUENCE_LENGTH = 50\n",
    "# This is fixed.\n",
    "EMBEDDING_DIM = 100\n",
    "\n",
    "tokenizer = Tokenizer(num_words=MAX_NB_WORDS, split=' ') \n",
    "tokenizer.fit_on_texts(data.stemmed_tweets.values)\n",
    "word_index = tokenizer.word_index\n",
    "print('Found %s unique tokens.' % len(word_index))"
   ]
  },
  {
   "cell_type": "code",
   "execution_count": null,
   "metadata": {},
   "outputs": [],
   "source": [
    "#1086 unique tokens were found\n",
    "#The above code does the following:\n",
    "#vectorize the lemmatized tweets.\n",
    "#Limit the data set to the top 500 words.\n",
    "#Set the max number of words in each tweet at 50"
   ]
  },
  {
   "cell_type": "code",
   "execution_count": 84,
   "metadata": {},
   "outputs": [
    {
     "name": "stdout",
     "output_type": "stream",
     "text": [
      "Shape of data tensor: (599, 50)\n"
     ]
    }
   ],
   "source": [
    "#shape of the data tensor\n",
    "X = tokenizer.texts_to_sequences(data.stemmed_tweets.values)\n",
    "X = pad_sequences(X, maxlen=MAX_SEQUENCE_LENGTH)\n",
    "print('Shape of data tensor:', X.shape)"
   ]
  },
  {
   "cell_type": "code",
   "execution_count": 85,
   "metadata": {},
   "outputs": [
    {
     "name": "stdout",
     "output_type": "stream",
     "text": [
      "(509, 50) (509, 3)\n",
      "(90, 50) (90, 3)\n"
     ]
    }
   ],
   "source": [
    "#Train Test Split\n",
    "X_train, X_test, Y_train, Y_test = train_test_split(X,Y, test_size = 0.15, random_state = 42)\n",
    "print(X_train.shape,Y_train.shape)\n",
    "print(X_test.shape,Y_test.shape)"
   ]
  },
  {
   "cell_type": "code",
   "execution_count": null,
   "metadata": {},
   "outputs": [],
   "source": [
    "#Modelling\n",
    "#The first layer is the embedded layer that uses 100 length vectors to represent each word.\n",
    "#SpatialDropout1D performs variational dropout in NLP models.\n",
    "#The next layer is the LSTM layer with 100 memory units.\n",
    "#The output layer must create 3 output values, one for each class.\n",
    "#Activation function is softmax for multi-class classification.\n",
    "#Because it is a multi-class classification problem, categorical_crossentropy is used as the loss function."
   ]
  },
  {
   "cell_type": "code",
   "execution_count": 88,
   "metadata": {},
   "outputs": [],
   "source": [
    "from numpy.random import seed\n",
    "seed(1)\n",
    "import tensorflow\n",
    "tensorflow.random.set_seed(2)\n",
    "f1 = tfa.metrics.F1Score(36,'micro' or 'macro')\n",
    "model = Sequential()\n",
    "model.add(Embedding(MAX_NB_WORDS, EMBEDDING_DIM, input_length=X.shape[1]))\n",
    "model.add(SpatialDropout1D(0.2))\n",
    "model.add(LSTM(100, dropout=0.2, recurrent_dropout=0.2))\n",
    "model.add(Dense(3, activation='softmax'))\n",
    "model.compile(loss='categorical_crossentropy', optimizer='adam', metrics=['accuracy',f1])\n",
    "\n",
    "epochs = 7\n",
    "batch_size = 64"
   ]
  },
  {
   "cell_type": "code",
   "execution_count": 89,
   "metadata": {},
   "outputs": [
    {
     "name": "stdout",
     "output_type": "stream",
     "text": [
      "Epoch 1/7\n",
      "8/8 [==============================] - 8s 232ms/step - loss: 1.0655 - accuracy: 0.6288 - f1_score: 0.6288 - val_loss: 0.9936 - val_accuracy: 0.6275 - val_f1_score: 0.6275\n",
      "Epoch 2/7\n",
      "8/8 [==============================] - 1s 113ms/step - loss: 0.9270 - accuracy: 0.6026 - f1_score: 0.6026 - val_loss: 0.8874 - val_accuracy: 0.7843 - val_f1_score: 0.7843\n",
      "Epoch 3/7\n",
      "8/8 [==============================] - 1s 116ms/step - loss: 0.7717 - accuracy: 0.8581 - f1_score: 0.8581 - val_loss: 0.6759 - val_accuracy: 0.7255 - val_f1_score: 0.7255\n",
      "Epoch 4/7\n",
      "8/8 [==============================] - 1s 109ms/step - loss: 0.5433 - accuracy: 0.8493 - f1_score: 0.8493 - val_loss: 0.5150 - val_accuracy: 0.7451 - val_f1_score: 0.7451\n",
      "Epoch 5/7\n",
      "8/8 [==============================] - 1s 110ms/step - loss: 0.3418 - accuracy: 0.9105 - f1_score: 0.9105 - val_loss: 0.3396 - val_accuracy: 0.8431 - val_f1_score: 0.8431\n",
      "Epoch 6/7\n",
      "8/8 [==============================] - 1s 121ms/step - loss: 0.2349 - accuracy: 0.9127 - f1_score: 0.9127 - val_loss: 0.3375 - val_accuracy: 0.8627 - val_f1_score: 0.8627\n",
      "Epoch 7/7\n",
      "8/8 [==============================] - 1s 121ms/step - loss: 0.1851 - accuracy: 0.9323 - f1_score: 0.9323 - val_loss: 0.2931 - val_accuracy: 0.8627 - val_f1_score: 0.8627\n"
     ]
    }
   ],
   "source": [
    "history_1 = model.fit(X_train, Y_train, epochs=epochs, batch_size=batch_size,validation_split=0.1,callbacks=[EarlyStopping(monitor='val_loss', patience=3, min_delta=0.0001)])"
   ]
  },
  {
   "cell_type": "code",
   "execution_count": null,
   "metadata": {},
   "outputs": [],
   "source": [
    "#After training over 8 epochs: accuracy score of 93.23% ; Validation accuracy of 86.27%"
   ]
  },
  {
   "cell_type": "code",
   "execution_count": null,
   "metadata": {},
   "outputs": [],
   "source": [
    "#checking against our test data"
   ]
  },
  {
   "cell_type": "code",
   "execution_count": 90,
   "metadata": {},
   "outputs": [
    {
     "name": "stdout",
     "output_type": "stream",
     "text": [
      "3/3 [==============================] - 0s 15ms/step - loss: 0.3141 - accuracy: 0.8889 - f1_score: 0.8889\n",
      "Test set\n",
      "  Loss: 0.314\n",
      "  Accuracy: 0.889\n"
     ]
    }
   ],
   "source": [
    "accr = model.evaluate(X_test,Y_test)\n",
    "print('Test set\\n  Loss: {:0.3f}\\n  Accuracy: {:0.3f}'.format(accr[0],accr[1]))"
   ]
  },
  {
   "cell_type": "code",
   "execution_count": null,
   "metadata": {},
   "outputs": [],
   "source": [
    "#test data had an accuracy score of 88.9% \n",
    "#"
   ]
  },
  {
   "cell_type": "code",
   "execution_count": null,
   "metadata": {},
   "outputs": [],
   "source": [
    "#plotting the results"
   ]
  },
  {
   "cell_type": "code",
   "execution_count": 93,
   "metadata": {},
   "outputs": [
    {
     "data": {
      "image/png": "[encoded data removed]",
      "text/plain": [
       "<Figure size 576x576 with 1 Axes>"
      ]
     },
     "metadata": {
      "needs_background": "light"
     },
     "output_type": "display_data"
    },
    {
     "data": {
      "text/plain": [
       "<Figure size 432x288 with 0 Axes>"
      ]
     },
     "metadata": {},
     "output_type": "display_data"
    }
   ],
   "source": [
    "plt.figure(figsize=(8, 8))\n",
    "plt.title('Loss')\n",
    "plt.plot(history_1.history['loss'], label='train')\n",
    "plt.plot(history_1.history['val_loss'], label='test')\n",
    "plt.legend()\n",
    "plt.show()\n",
    "plt.savefig('Loss Plot')"
   ]
  },
  {
   "cell_type": "code",
   "execution_count": 94,
   "metadata": {},
   "outputs": [
    {
     "data": {
      "image/png": "[encoded data removed]",
      "text/plain": [
       "<Figure size 576x576 with 1 Axes>"
      ]
     },
     "metadata": {
      "needs_background": "light"
     },
     "output_type": "display_data"
    },
    {
     "data": {
      "text/plain": [
       "<Figure size 432x288 with 0 Axes>"
      ]
     },
     "metadata": {},
     "output_type": "display_data"
    }
   ],
   "source": [
    "plt.figure(figsize=(8, 8))\n",
    "plt.title('Accuracy')\n",
    "plt.plot(history_1.history['accuracy'], label='train')\n",
    "plt.plot(history_1.history['val_accuracy'], label='test')\n",
    "plt.legend()\n",
    "plt.show()\n",
    "plt.savefig('Accuracy Plot')"
   ]
  },
  {
   "cell_type": "code",
   "execution_count": null,
   "metadata": {},
   "outputs": [],
   "source": [
    "#From the plot there was a bit of overfitting with the model\n",
    "#with a bit more data collected will be able to work around this."
   ]
  },
  {
   "cell_type": "code",
   "execution_count": 95,
   "metadata": {},
   "outputs": [
    {
     "name": "stdout",
     "output_type": "stream",
     "text": [
      "1/1 [==============================] - 1s 1s/step\n",
      "[[0.29812905 0.35429028 0.3475807 ]] neutral\n"
     ]
    }
   ],
   "source": [
    "#Testing with a new tweet\n",
    "tweet = [\"If there’s anything I learnt from #BloodSisters then it is “whatever situation you find yourself, knack first🙏👍. Gabriel afolayan and his wife 😭😭😭ashawos wey Dey disguise 😭😭😂\"]\n",
    "seq = tokenizer.texts_to_sequences(tweet)\n",
    "padded = pad_sequences(seq, maxlen=MAX_SEQUENCE_LENGTH)\n",
    "pred = model.predict(padded)\n",
    "labels = ['negative','neutral','positive']\n",
    "print(pred, labels[np.argmax(pred)])"
   ]
  },
  {
   "cell_type": "code",
   "execution_count": null,
   "metadata": {},
   "outputs": [],
   "source": [
    "#our new tweet has a predicted label of neutral."
   ]
  },
  {
   "cell_type": "code",
   "execution_count": null,
   "metadata": {},
   "outputs": [],
   "source": [
    "#further develpoment\n",
    "#1. creating a webapp to allow input of tweets \n",
    "#2. pipeline to be able to extract tweets"
   ]
  }
 ],
 "metadata": {
  "interpreter": {
   "hash": "f6246b25e200e4c5124e3e61789ac81350562f0761bbcf92ad9e48654207659c"
  },
  "kernelspec": {
   "display_name": "Python 3.9.0 64-bit",
   "language": "python",
   "name": "python3"
  },
  "language_info": {
   "codemirror_mode": {
    "name": "ipython",
    "version": 3
   },
   "file_extension": ".py",
   "mimetype": "text/x-python",
   "name": "python",
   "nbconvert_exporter": "python",
   "pygments_lexer": "ipython3",
   "version": "3.9.0"
  }
 },
 "nbformat": 4,
 "nbformat_minor": 4
}
