{
 "cells": [
  {
   "cell_type": "code",
   "execution_count": null,
   "metadata": {},
   "outputs": [],
   "source": []
  },
  {
   "cell_type": "code",
   "execution_count": null,
   "metadata": {},
   "outputs": [],
   "source": []
  },
  {
   "cell_type": "code",
   "execution_count": null,
   "metadata": {},
   "outputs": [],
   "source": [
    "#Set Up API credentials and save them somewhere \n",
    "#I applied for the API access and got 'ElevatedAccess' Almost Immediately\n",
    "#Then pip installed requisite libraries-python dotenv(hides the credentials as saved) and tweepy to connect with the API\n",
    "#created a .env file to hold the API credentials\n",
    "#open a notebook in the same directory as .env file\n",
    "#Authenitcate the API with the following script."
   ]
  },
  {
   "cell_type": "code",
   "execution_count": 2,
   "metadata": {},
   "outputs": [],
   "source": [
    "import os\n",
    "import tweepy\n",
    "from dotenv import load_dotenv\n",
    "\n",
    "consumer_key = os.environ[\"API_KEY\"]\n",
    "consumer_secret = os.environ[\"API_KEY_SECRET\"]\n",
    "access_token = os.environ[\"ACCESS_TOKEN\"]\n",
    "access_token_secret = os.environ[\"ACCESS_TOKEN_SECRET\"]\n",
    "\n",
    "auth = tweepy.OAuth1UserHandler(\n",
    "  consumer_key, \n",
    "  consumer_secret, \n",
    "  access_token, \n",
    "  access_token_secret\n",
    ")\n",
    "\n",
    "api = tweepy.API(auth)"
   ]
  },
  {
   "cell_type": "code",
   "execution_count": 4,
   "metadata": {},
   "outputs": [
    {
     "data": {
      "text/plain": [
       "User(_api=<tweepy.api.API object at 0x000001E12E1ACEB0>, _json={'id': 1113438232686022656, 'id_str': '1113438232686022656', 'name': 'Ochanyo', 'screen_name': 'Ochanyo_', 'location': 'Where the data is', 'description': '| Building the future of digital health products | I try to have good knowledge of many things |', 'url': None, 'entities': {'description': {'urls': []}}, 'protected': False, 'followers_count': 509, 'friends_count': 1006, 'listed_count': 0, 'created_at': 'Wed Apr 03 13:48:56 +0000 2019', 'favourites_count': 26693, 'utc_offset': None, 'time_zone': None, 'geo_enabled': False, 'verified': False, 'statuses_count': 26191, 'lang': None, 'status': {'created_at': 'Thu May 19 05:57:50 +0000 2022', 'id': 1527166620346499072, 'id_str': '1527166620346499072', 'text': 'Most of them tended towards neutral polarity? What gives? 😊 https://t.co/tAExkgXnvz', 'truncated': False, 'entities': {'hashtags': [], 'symbols': [], 'user_mentions': [], 'urls': [{'url': 'https://t.co/tAExkgXnvz', 'expanded_url': 'https://twitter.com/librantechie/status/1527165403612336129', 'display_url': 'twitter.com/librantechie/s…', 'indices': [60, 83]}]}, 'source': '<a href=\"http://twitter.com/download/iphone\" rel=\"nofollow\">Twitter for iPhone</a>', 'in_reply_to_status_id': None, 'in_reply_to_status_id_str': None, 'in_reply_to_user_id': None, 'in_reply_to_user_id_str': None, 'in_reply_to_screen_name': None, 'geo': None, 'coordinates': None, 'place': None, 'contributors': None, 'is_quote_status': True, 'quoted_status_id': 1527165403612336129, 'quoted_status_id_str': '1527165403612336129', 'retweet_count': 0, 'favorite_count': 0, 'favorited': False, 'retweeted': False, 'possibly_sensitive': True, 'lang': 'en'}, 'contributors_enabled': False, 'is_translator': False, 'is_translation_enabled': False, 'profile_background_color': 'F5F8FA', 'profile_background_image_url': None, 'profile_background_image_url_https': None, 'profile_background_tile': False, 'profile_image_url': 'http://pbs.twimg.com/profile_images/1399786871471890435/uph86Pcl_normal.jpg', 'profile_image_url_https': 'https://pbs.twimg.com/profile_images/1399786871471890435/uph86Pcl_normal.jpg', 'profile_link_color': '1DA1F2', 'profile_sidebar_border_color': 'C0DEED', 'profile_sidebar_fill_color': 'DDEEF6', 'profile_text_color': '333333', 'profile_use_background_image': True, 'has_extended_profile': True, 'default_profile': True, 'default_profile_image': False, 'following': False, 'follow_request_sent': False, 'notifications': False, 'translator_type': 'none', 'withheld_in_countries': [], 'suspended': False, 'needs_phone_verification': False}, id=1113438232686022656, id_str='1113438232686022656', name='Ochanyo', screen_name='Ochanyo_', location='Where the data is', description='| Building the future of digital health products | I try to have good knowledge of many things |', url=None, entities={'description': {'urls': []}}, protected=False, followers_count=509, friends_count=1006, listed_count=0, created_at=datetime.datetime(2019, 4, 3, 13, 48, 56, tzinfo=datetime.timezone.utc), favourites_count=26693, utc_offset=None, time_zone=None, geo_enabled=False, verified=False, statuses_count=26191, lang=None, status=Status(_api=<tweepy.api.API object at 0x000001E12E1ACEB0>, _json={'created_at': 'Thu May 19 05:57:50 +0000 2022', 'id': 1527166620346499072, 'id_str': '1527166620346499072', 'text': 'Most of them tended towards neutral polarity? What gives? 😊 https://t.co/tAExkgXnvz', 'truncated': False, 'entities': {'hashtags': [], 'symbols': [], 'user_mentions': [], 'urls': [{'url': 'https://t.co/tAExkgXnvz', 'expanded_url': 'https://twitter.com/librantechie/status/1527165403612336129', 'display_url': 'twitter.com/librantechie/s…', 'indices': [60, 83]}]}, 'source': '<a href=\"http://twitter.com/download/iphone\" rel=\"nofollow\">Twitter for iPhone</a>', 'in_reply_to_status_id': None, 'in_reply_to_status_id_str': None, 'in_reply_to_user_id': None, 'in_reply_to_user_id_str': None, 'in_reply_to_screen_name': None, 'geo': None, 'coordinates': None, 'place': None, 'contributors': None, 'is_quote_status': True, 'quoted_status_id': 1527165403612336129, 'quoted_status_id_str': '1527165403612336129', 'retweet_count': 0, 'favorite_count': 0, 'favorited': False, 'retweeted': False, 'possibly_sensitive': True, 'lang': 'en'}, created_at=datetime.datetime(2022, 5, 19, 5, 57, 50, tzinfo=datetime.timezone.utc), id=1527166620346499072, id_str='1527166620346499072', text='Most of them tended towards neutral polarity? What gives? 😊 https://t.co/tAExkgXnvz', truncated=False, entities={'hashtags': [], 'symbols': [], 'user_mentions': [], 'urls': [{'url': 'https://t.co/tAExkgXnvz', 'expanded_url': 'https://twitter.com/librantechie/status/1527165403612336129', 'display_url': 'twitter.com/librantechie/s…', 'indices': [60, 83]}]}, source='Twitter for iPhone', source_url='http://twitter.com/download/iphone', in_reply_to_status_id=None, in_reply_to_status_id_str=None, in_reply_to_user_id=None, in_reply_to_user_id_str=None, in_reply_to_screen_name=None, geo=None, coordinates=None, place=None, contributors=None, is_quote_status=True, quoted_status_id=1527165403612336129, quoted_status_id_str='1527165403612336129', retweet_count=0, favorite_count=0, favorited=False, retweeted=False, possibly_sensitive=True, lang='en'), contributors_enabled=False, is_translator=False, is_translation_enabled=False, profile_background_color='F5F8FA', profile_background_image_url=None, profile_background_image_url_https=None, profile_background_tile=False, profile_image_url='http://pbs.twimg.com/profile_images/1399786871471890435/uph86Pcl_normal.jpg', profile_image_url_https='https://pbs.twimg.com/profile_images/1399786871471890435/uph86Pcl_normal.jpg', profile_link_color='1DA1F2', profile_sidebar_border_color='C0DEED', profile_sidebar_fill_color='DDEEF6', profile_text_color='333333', profile_use_background_image=True, has_extended_profile=True, default_profile=True, default_profile_image=False, following=False, follow_request_sent=False, notifications=False, translator_type='none', withheld_in_countries=[], suspended=False, needs_phone_verification=False)"
      ]
     },
     "execution_count": 4,
     "metadata": {},
     "output_type": "execute_result"
    }
   ],
   "source": [
    "#checking whether it is logged on as Ochanyo_\n",
    "me=api.verify_credentials()\n",
    "me"
   ]
  },
  {
   "cell_type": "code",
   "execution_count": 5,
   "metadata": {},
   "outputs": [],
   "source": [
    "#The above blob contains a lot of metadata of the twitter account @Ochanyo_"
   ]
  },
  {
   "cell_type": "code",
   "execution_count": null,
   "metadata": {},
   "outputs": [],
   "source": [
    "#printing out details of the logged in account"
   ]
  },
  {
   "cell_type": "code",
   "execution_count": 6,
   "metadata": {},
   "outputs": [
    {
     "name": "stdout",
     "output_type": "stream",
     "text": [
      "1113438232686022656\n"
     ]
    }
   ],
   "source": [
    "print(me.id)"
   ]
  },
  {
   "cell_type": "code",
   "execution_count": 9,
   "metadata": {},
   "outputs": [
    {
     "name": "stdout",
     "output_type": "stream",
     "text": [
      "509\n"
     ]
    }
   ],
   "source": [
    "#prints out the follower count\n",
    "print(me.followers_count)"
   ]
  },
  {
   "cell_type": "code",
   "execution_count": 10,
   "metadata": {},
   "outputs": [
    {
     "name": "stdout",
     "output_type": "stream",
     "text": [
      "Ochanyo_\n"
     ]
    }
   ],
   "source": [
    "#prints out the handle\n",
    "print(me.screen_name)"
   ]
  },
  {
   "cell_type": "code",
   "execution_count": 11,
   "metadata": {},
   "outputs": [
    {
     "name": "stdout",
     "output_type": "stream",
     "text": [
      "| Building the future of digital health products | I try to have good knowledge of many things |\n"
     ]
    }
   ],
   "source": [
    "#print out the Bio\n",
    "print(me.description)"
   ]
  },
  {
   "cell_type": "code",
   "execution_count": null,
   "metadata": {},
   "outputs": [],
   "source": []
  }
 ],
 "metadata": {
  "kernelspec": {
   "display_name": "Python 3",
   "language": "python",
   "name": "python3"
  },
  "language_info": {
   "codemirror_mode": {
    "name": "ipython",
    "version": 3
   },
   "file_extension": ".py",
   "mimetype": "text/x-python",
   "name": "python",
   "nbconvert_exporter": "python",
   "pygments_lexer": "ipython3",
   "version": "3.9.0"
  }
 },
 "nbformat": 4,
 "nbformat_minor": 4
}
